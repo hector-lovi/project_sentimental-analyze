{
 "cells": [
  {
   "cell_type": "code",
   "execution_count": 43,
   "metadata": {},
   "outputs": [],
   "source": [
    "import requests\n",
    "from pymongo import MongoClient\n",
    "\n",
    "myclient = MongoClient(\"mongodb://localhost:27017/sentimental-analyze\")\n",
    "mydb = myclient.get_database()\n",
    "col_users = mydb['users']\n",
    "col_chats = mydb['chats']\n"
   ]
  },
  {
   "cell_type": "code",
   "execution_count": 87,
   "metadata": {},
   "outputs": [
    {
     "data": {
      "text/plain": [
       "'User Santi created'"
      ]
     },
     "execution_count": 87,
     "metadata": {},
     "output_type": "execute_result"
    }
   ],
   "source": [
    "requests.get(\"http://localhost:4999/user/create/Santi\").text"
   ]
  },
  {
   "cell_type": "code",
   "execution_count": 39,
   "metadata": {},
   "outputs": [
    {
     "name": "stdout",
     "output_type": "stream",
     "text": [
      "0\n"
     ]
    }
   ],
   "source": [
    "q = {'id_user': {'$exists': True}}\n",
    "query = list(col_users.find(q, {'_id': 0, 'id_user': 1}))\n",
    "val_id = [n for e in query for n in e]\n",
    "if val_id == []:\n",
    "    print(0)\n",
    "else:\n",
    "    max_id = max([i for i in val_id])\n",
    "    print(max_id)"
   ]
  },
  {
   "cell_type": "code",
   "execution_count": 86,
   "metadata": {},
   "outputs": [
    {
     "name": "stdout",
     "output_type": "stream",
     "text": [
      "1\n"
     ]
    }
   ],
   "source": [
    "q = {'id_user': {'$exists': True}}\n",
    "query = list(col_users.find(q, {'_id': 0, 'id_user': 1}))\n",
    "val_id = []\n",
    "for e in query:\n",
    "    for k,v in e.items():\n",
    "        val_id.append(v)\n",
    "if val_id == []:\n",
    "    print(0)\n",
    "else:\n",
    "    print(max(val_id) + 1)"
   ]
  },
  {
   "cell_type": "code",
   "execution_count": 89,
   "metadata": {},
   "outputs": [
    {
     "ename": "SyntaxError",
     "evalue": "invalid syntax (<ipython-input-89-367fdd19ebf3>, line 4)",
     "output_type": "error",
     "traceback": [
      "\u001b[0;36m  File \u001b[0;32m\"<ipython-input-89-367fdd19ebf3>\"\u001b[0;36m, line \u001b[0;32m4\u001b[0m\n\u001b[0;31m    val_name = [v for [e.items() for e in query] in k,v ]\u001b[0m\n\u001b[0m                                                     ^\u001b[0m\n\u001b[0;31mSyntaxError\u001b[0m\u001b[0;31m:\u001b[0m invalid syntax\n"
     ]
    }
   ],
   "source": [
    "q = {'name':{'$exists': True}}\n",
    "query = list(col_users.find(q, {'_id':0, 'name':1}))\n",
    "print(query)\n",
    "val_name = []\n",
    "\n",
    "print(val_name)"
   ]
  },
  {
   "cell_type": "code",
   "execution_count": null,
   "metadata": {},
   "outputs": [],
   "source": []
  }
 ],
 "metadata": {
  "hide_input": false,
  "kernelspec": {
   "display_name": "Python 3",
   "language": "python",
   "name": "python3"
  },
  "language_info": {
   "codemirror_mode": {
    "name": "ipython",
    "version": 3
   },
   "file_extension": ".py",
   "mimetype": "text/x-python",
   "name": "python",
   "nbconvert_exporter": "python",
   "pygments_lexer": "ipython3",
   "version": "3.8.1"
  }
 },
 "nbformat": 4,
 "nbformat_minor": 4
}
